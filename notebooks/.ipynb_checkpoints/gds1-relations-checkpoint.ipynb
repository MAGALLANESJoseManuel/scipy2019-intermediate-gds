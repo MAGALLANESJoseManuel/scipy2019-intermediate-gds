{
 "cells": [
  {
   "cell_type": "markdown",
   "metadata": {},
   "source": [
    "# Topics in Working with Spatial Data"
   ]
  },
  {
   "cell_type": "markdown",
   "metadata": {},
   "source": [
    "Below, we'll take you through a typical workflow with spatial data, including some of the tricker or more difficult parts of cleaning, aligning, and cross-referencing between datasets. We'll cover a few topics:\n",
    "\n",
    "1. creating geographic data from flat text\n",
    "2. geocoding to create geographic data using `geopy`\n",
    "3. creating better maps with basemaps using `contextily`\n",
    "4. building zones for visualization\n",
    "5. spatial joins, & queries\n",
    "\n",
    "First, though, we'll be mainly using the following packages:"
   ]
  },
  {
   "cell_type": "code",
   "execution_count": null,
   "metadata": {},
   "outputs": [],
   "source": [
    "import geopandas # to read/write spatial data\n",
    "import matplotlib.pyplot as plt # to visualize data\n",
    "import pandas # to read/write plain tables\n",
    "\n",
    "# to display a few webpages within the notebook\n",
    "from IPython.display import IFrame\n",
    "%matplotlib inline"
   ]
  },
  {
   "cell_type": "markdown",
   "metadata": {},
   "source": [
    "# Reading data"
   ]
  },
  {
   "cell_type": "markdown",
   "metadata": {},
   "source": [
    "In many of the \"clean\" analysis cases, an analyst will have *prepared* data that is ready to use for spatial analysis. This may mean it comes in a variety of well-understood geographical formats (e.g. shapefiles, `tiff` rasters, geopackage `.gpkg` files, or geojson). However, it is important to understand how to create geodata from flat text files, since this is a common issue when working with databases or non-specialist databases.\n",
    "\n",
    "Below, we will read in some data from [insideairbnb.com](https://insideairbnb.com), with data pertaining to the features & prices of airbnbs in Austin, TX. This data mimicks two common ways that geographical data is distributed, when it is distributed outside of an explicitly spatial format. "
   ]
  },
  {
   "cell_type": "code",
   "execution_count": null,
   "metadata": {},
   "outputs": [],
   "source": [
    "neighborhoods = pandas.read_csv('../data/neighborhoods.csv')\n",
    "listings = pandas.read_csv('../data/listings.csv.gz')"
   ]
  },
  {
   "cell_type": "markdown",
   "metadata": {},
   "source": [
    "For the first dataset, the `listings` data, records are provided with information about the latitude & longitude of the listing:"
   ]
  },
  {
   "cell_type": "code",
   "execution_count": null,
   "metadata": {},
   "outputs": [],
   "source": [
    "listings.head()"
   ]
  },
  {
   "cell_type": "markdown",
   "metadata": {},
   "source": [
    "We can see that there are multiple distinct pieces of usable geographic information in the list of columns in the dataframe:\n",
    "1. city\n",
    "2. state\n",
    "3. zipcode\n",
    "4. hood, which means *neighbor*hood\n",
    "5. country\n",
    "6. **latitude** & **longitude**, which are the coordinates of the listing\n",
    "7. **geometry**, which is the well-known text representation of the point iself.\n",
    "\n",
    "We will focus on constructing geometries from the latitude & longitude fields. "
   ]
  },
  {
   "cell_type": "code",
   "execution_count": null,
   "metadata": {},
   "outputs": [],
   "source": [
    "list(listings.columns)"
   ]
  },
  {
   "cell_type": "markdown",
   "metadata": {},
   "source": [
    "Inspecting the second dataset, we can see only one column that might be relevant to constructing a geographical representation of the data. There, **wkb** refers to a well-known binary representation of the data. This is a common format for expressing geometric information, especially when working with spatial databases like postgis, or when geographic information is [*\"shoehorned\"*](https://pypi.org/project/geoparquet/) into existing flat-text file formats. Often, the well-known binary representation is a string of binary digits, encoded in hexidecimal, that represents the structure of the geometry corresponding to that record in the dataframe. Neighborhoods are *\"areal\"* features, meaning that they are polygons. Thus, the well-known binary column encodes the shape of these polygons. "
   ]
  },
  {
   "cell_type": "code",
   "execution_count": null,
   "metadata": {},
   "outputs": [],
   "source": [
    "neighborhoods.head()"
   ]
  },
  {
   "cell_type": "markdown",
   "metadata": {},
   "source": [
    "# Creating geometries from raw coordinates"
   ]
  },
  {
   "cell_type": "markdown",
   "metadata": {},
   "source": [
    "For the first dataset, `geopandas` has helper functions to construct a *\"geodataframe\"*, a subclass of `pandas` dataframe useful for working with geographic data, directly from coordinates. You can do this yourself using the `points_from_xy` function:"
   ]
  },
  {
   "cell_type": "code",
   "execution_count": null,
   "metadata": {},
   "outputs": [],
   "source": [
    "geometries = geopandas.points_from_xy(listings.longitude, listings.latitude)"
   ]
  },
  {
   "cell_type": "markdown",
   "metadata": {},
   "source": [
    "Then, sending these geometries to the `GeoDataFrame` constructor, you can make a geodataframe:"
   ]
  },
  {
   "cell_type": "code",
   "execution_count": null,
   "metadata": {},
   "outputs": [],
   "source": [
    "listings = geopandas.GeoDataFrame(listings, geometry=geometries)"
   ]
  },
  {
   "cell_type": "markdown",
   "metadata": {},
   "source": [
    "For the `neighborhoods` data, we must parse the well-known binary. The package that handles geometric data in Python is called `shapely`. Using the `wkb` module in `shapely`, we can parse the well-known binary and obtain a geometric representation for the neighborhoods:"
   ]
  },
  {
   "cell_type": "code",
   "execution_count": null,
   "metadata": {},
   "outputs": [],
   "source": [
    "from shapely import wkb"
   ]
  },
  {
   "cell_type": "code",
   "execution_count": null,
   "metadata": {},
   "outputs": [],
   "source": [
    "neighborhoods['geometry'] = neighborhoods.wkb.apply(lambda shape: wkb.loads(shape, hex=True))"
   ]
  },
  {
   "cell_type": "code",
   "execution_count": null,
   "metadata": {},
   "outputs": [],
   "source": [
    "neighborhoods.geometry[0]"
   ]
  },
  {
   "cell_type": "markdown",
   "metadata": {},
   "source": [
    "However, even though we have parsed the geometry information, we have not ensured that this data is contained within a `GeoDataFrame`. Fortunately, we can use the `GeoDataFrame` constructor, which will use whatever is in the column called `'geometry'` as the geometry for the record, by default: "
   ]
  },
  {
   "cell_type": "code",
   "execution_count": null,
   "metadata": {},
   "outputs": [],
   "source": [
    "neighborhoods = geopandas.GeoDataFrame(neighborhoods)\n",
    "neighborhoods.drop('wkb', axis=1, inplace=True)"
   ]
  },
  {
   "cell_type": "markdown",
   "metadata": {},
   "source": [
    "# Writing out to file"
   ]
  },
  {
   "cell_type": "markdown",
   "metadata": {},
   "source": [
    "Since it will be handy to use this data later, we will write it out to an explicit geographic data format. For now, the recommended standard in the field is the `geopackage`, although many folks use other data formats. \n",
    "\n",
    "Before we can proceed, however, we need to define a [*coordinate reference system*](https://en.wikipedia.org/wiki/Spatial_reference_system) for the data. This refers to the system that links the coordinates for the geometries in our database to locations on the real earth, which is not flat. Inspecting our data a little bit, we can see that the coordinates appear to be in raw longitude/latitude values:"
   ]
  },
  {
   "cell_type": "code",
   "execution_count": null,
   "metadata": {},
   "outputs": [],
   "source": [
    "listings.geometry[[0]]"
   ]
  },
  {
   "cell_type": "code",
   "execution_count": null,
   "metadata": {},
   "outputs": [],
   "source": [
    "neighborhoods.geometry[[0]]"
   ]
  },
  {
   "cell_type": "markdown",
   "metadata": {},
   "source": [
    "The typical coordinate reference system for data in raw latitude/longitude values is `epsg:4326`. To set the \"initial\" coordinate system for a geodataframe, the following convention is used:"
   ]
  },
  {
   "cell_type": "code",
   "execution_count": null,
   "metadata": {},
   "outputs": [],
   "source": [
    "neighborhoods.crs = {'init': 'epsg:4326'}\n",
    "listings.crs = {'init':'epsg:4326'}"
   ]
  },
  {
   "cell_type": "markdown",
   "metadata": {},
   "source": [
    "Then, we can write them out to file using the `to_file` method on a geodataframe: "
   ]
  },
  {
   "cell_type": "code",
   "execution_count": null,
   "metadata": {},
   "outputs": [],
   "source": [
    "neighborhoods.to_file('../data/neighborhoods.gpkg', driver='GPKG')"
   ]
  },
  {
   "cell_type": "code",
   "execution_count": null,
   "metadata": {},
   "outputs": [],
   "source": [
    "listings.to_file('../data/listings.gpkg', driver='GPKG')"
   ]
  },
  {
   "cell_type": "markdown",
   "metadata": {},
   "source": [
    "# Finding Addresses"
   ]
  },
  {
   "cell_type": "markdown",
   "metadata": {},
   "source": [
    "It's often important to be able to identify the address of a given coordiante, and to identify the coordinates that apply to a given address. To get this information, you can use a *geocoder* to work \"forward,\" giving the coordinates that pertain to a given address, or \"backward,\" giving the address pertaining to a given coordinate. Below, we'll show you how to use `geopy` to do both directions of geocoding. "
   ]
  },
  {
   "cell_type": "code",
   "execution_count": null,
   "metadata": {},
   "outputs": [],
   "source": [
    "import geopy"
   ]
  },
  {
   "cell_type": "markdown",
   "metadata": {},
   "source": [
    "The `geopy` package requires that you first build a \"coding\" object, then use that coding object to code locations. Coding forward is handled by the `geocode` method, and coding backwards is handled using the `reverse` method. \n",
    "\n",
    "According to the terms of service, you *must always set the user_agent* argument when using `Nominatim`, the Open Street Map geocoder. `geopy` exposes many other geocoders for simple use, but Nominatim is the simplest to work with when getting started, because it does not require an API key, and works alright for light, occasional use. "
   ]
  },
  {
   "cell_type": "code",
   "execution_count": null,
   "metadata": {},
   "outputs": [],
   "source": [
    "coder = geopy.Nominatim(user_agent='scipy2019-intermediate-gds')"
   ]
  },
  {
   "cell_type": "markdown",
   "metadata": {},
   "source": [
    "The reverse coding method takes a coordinate pair (in `(latitude,longitude)` form!) and returns a `Location` object, which contains quite a few handy bits of information about the query location. This includes a street address, as well as the raw data from the `Nominatim` API:"
   ]
  },
  {
   "cell_type": "code",
   "execution_count": null,
   "metadata": {},
   "outputs": [],
   "source": [
    "coder.reverse?"
   ]
  },
  {
   "cell_type": "code",
   "execution_count": null,
   "metadata": {},
   "outputs": [],
   "source": [
    "address = coder.reverse((listings.latitude[0], listings.longitude[0]))"
   ]
  },
  {
   "cell_type": "code",
   "execution_count": null,
   "metadata": {},
   "outputs": [],
   "source": [
    "address"
   ]
  },
  {
   "cell_type": "code",
   "execution_count": null,
   "metadata": {},
   "outputs": [],
   "source": [
    "address.raw"
   ]
  },
  {
   "cell_type": "markdown",
   "metadata": {},
   "source": [
    "Since it is often the case we just want the address, we might reverse geocode the first twenty Airbnb listings from their latitude and longitude using the following `apply` statement:"
   ]
  },
  {
   "cell_type": "code",
   "execution_count": null,
   "metadata": {},
   "outputs": [],
   "source": [
    "listings.head(20)[['latitude', 'longitude']]\\\n",
    "        .apply(lambda coord: coder.reverse(coord).address, axis=1)"
   ]
  },
  {
   "cell_type": "markdown",
   "metadata": {},
   "source": [
    "Working in the other direction, the `geocode` method takes a known address and converts it into a location. Using our earlier geocoded address, this works like this:"
   ]
  },
  {
   "cell_type": "code",
   "execution_count": null,
   "metadata": {},
   "outputs": [],
   "source": [
    "coder.geocode(address.address)"
   ]
  },
  {
   "cell_type": "markdown",
   "metadata": {},
   "source": [
    "Be careful of the usage policy for the Nomiantim browser, however. There are some constraints on how Nominatim may be used. If you plan on geocoding extensively, definitely be sure to register for another service; you will get banned from using Nominatim if you send large batches of bulk geocoding requests:"
   ]
  },
  {
   "cell_type": "code",
   "execution_count": null,
   "metadata": {},
   "outputs": [],
   "source": [
    "IFrame('https://operations.osmfoundation.org/policies/nominatim/', width=800, height=800)"
   ]
  },
  {
   "cell_type": "markdown",
   "metadata": {},
   "source": [
    "Take the next 5 minutes to try geocoding /reverse geocoding a few addresses/coordinates."
   ]
  },
  {
   "cell_type": "code",
   "execution_count": null,
   "metadata": {},
   "outputs": [],
   "source": []
  },
  {
   "cell_type": "markdown",
   "metadata": {},
   "source": [
    "# Cleaning Data"
   ]
  },
  {
   "cell_type": "markdown",
   "metadata": {},
   "source": [
    "As is often the case, data never arrives *perfectly* clean. Later, we'll be examining the information on the nightly price per head for Airbnbs. So, let's take a look at how clean the `price` data actually is:"
   ]
  },
  {
   "cell_type": "code",
   "execution_count": null,
   "metadata": {},
   "outputs": [],
   "source": [
    "listings.price.head()"
   ]
  },
  {
   "cell_type": "markdown",
   "metadata": {},
   "source": [
    "Ok! The `price` data's dtype is `object`, meaning that each record is a string. The data is expressed using conventional North American price string formats, like:\n",
    "\n",
    "> $1,234.56\n",
    "\n",
    "Which we must process into the *pythonic* representation of a number string:\n",
    "\n",
    "> 1_234.56"
   ]
  },
  {
   "cell_type": "markdown",
   "metadata": {},
   "source": [
    "To do this, we can use string methods of the `price` column. The `.str` attribute for `pandas.Series` objects lets us refer to string methods (like `.replace()`, `.startswith()`, or `.lower()`) that will be applied to every element within that Series. Since these are standard methods, they can be chained together in a sequence, as well. So, to convert our prices, we can do the following:"
   ]
  },
  {
   "cell_type": "code",
   "execution_count": null,
   "metadata": {},
   "outputs": [],
   "source": [
    "listings['price'] = (listings.price.str.replace('$','') # replace dollars with nothing\n",
    "                                  .str.replace(',','_') # swap , for _\n",
    "                                  .replace('', pandas.np.nan) # an empty string is missing data\n",
    "                                  .astype(float)) # and cast to a float"
   ]
  },
  {
   "cell_type": "markdown",
   "metadata": {},
   "source": [
    "Now, the `price` column is a float:"
   ]
  },
  {
   "cell_type": "code",
   "execution_count": null,
   "metadata": {},
   "outputs": [],
   "source": [
    "listings.price.head()"
   ]
  },
  {
   "cell_type": "markdown",
   "metadata": {},
   "source": [
    "and can be worked with like a float:"
   ]
  },
  {
   "cell_type": "code",
   "execution_count": null,
   "metadata": {},
   "outputs": [],
   "source": [
    "listings.price.hist(bins=300)"
   ]
  },
  {
   "cell_type": "markdown",
   "metadata": {},
   "source": [
    "### **Woah**, \n",
    "what Airbnb costs up there at around 14k dollars/night?"
   ]
  },
  {
   "cell_type": "code",
   "execution_count": null,
   "metadata": {},
   "outputs": [],
   "source": [
    "listings.iloc[listings.price.idxmax()][['id','name','price', 'accommodates','listing_url']]"
   ]
  },
  {
   "cell_type": "markdown",
   "metadata": {},
   "source": [
    "Taking a look at this listing, we see that it's a *huge* space: "
   ]
  },
  {
   "cell_type": "code",
   "execution_count": null,
   "metadata": {},
   "outputs": [],
   "source": [
    "IFrame(src=listings.iloc[listings.price.idxmax()].listing_url, \n",
    "       width=800, height=800)"
   ]
  },
  {
   "cell_type": "markdown",
   "metadata": {},
   "source": [
    "Further, quite a few prices are down at zero dollars! That's... odd! For now, let's drop values that have extremely low and high prices. "
   ]
  },
  {
   "cell_type": "code",
   "execution_count": null,
   "metadata": {},
   "outputs": [],
   "source": [
    "listings = listings[listings.price < listings.price.quantile(.99)]\n",
    "listings = listings[listings.price > listings.price.quantile(.01)]"
   ]
  },
  {
   "cell_type": "markdown",
   "metadata": {},
   "source": [
    "# Basemaps"
   ]
  },
  {
   "cell_type": "markdown",
   "metadata": {},
   "source": [
    "Basemaps are visual aids that sit below your data that help to contextualize information being displayed on a map. We suggest using the `contextily` package alongside `geopandas` to make great, high-quality maps from web tiles. To use `contextily`, we must first reproject our data into the Web Mercator projection, which is used for most web mapping tiles. "
   ]
  },
  {
   "cell_type": "code",
   "execution_count": null,
   "metadata": {},
   "outputs": [],
   "source": [
    "listings = listings.to_crs(epsg=3857)\n",
    "neighborhoods = neighborhoods.to_crs(epsg=3857)"
   ]
  },
  {
   "cell_type": "markdown",
   "metadata": {},
   "source": [
    "The main functionality of contextily is contained within the `bounds2img` function. This function takes the bounds of a given area and returns all web tiles that intersect this area at a given zoom level. Thus, you can define a level of detail (`zoom`), and `contextily` will grab the tiles that intersect the area and return them as a numpy array.\n",
    "\n",
    "To make this easy with `geopandas`, we can use the `total_bounds` attribute of our `GeoDataFrames`. This reflects the bounding box for the geometries inside of that `GeoDataFrame`. It is updated when data in the dataframe is changed, including when the dataframe is subsetted or appened to, so the `total_bounds` is an accurate reflection of the full extent of the data. Since we have transformed our data to the Web Mercator projection, the `total_bounds` for the data now expresses locations in terms of coordiantes within the Web Mercator system:"
   ]
  },
  {
   "cell_type": "code",
   "execution_count": null,
   "metadata": {},
   "outputs": [],
   "source": [
    "neighborhoods.total_bounds"
   ]
  },
  {
   "cell_type": "markdown",
   "metadata": {},
   "source": [
    "Data in the `total_bounds` attribute is stored in `(west, south, east, north)` format typical of geospatial applications. In concept, this provides the lower left and top right corners of the map. For many imaging applications, such as in `matplotlib`, bounding box information is often given instead as `(west, east, south, north)`, so attention must be paid to the format of these bounding boxes. \n",
    "\n",
    "Since `contextily` uses the same format for bounding boxes as `geopandas`, you can provide the `total_bounds` coordinates to the constructor using the *unpack* operator, `*`:"
   ]
  },
  {
   "cell_type": "code",
   "execution_count": null,
   "metadata": {},
   "outputs": [],
   "source": [
    "import contextily\n",
    "basemap, basemap_extent = contextily.bounds2img(*neighborhoods.total_bounds, \n",
    "                                                zoom=10)"
   ]
  },
  {
   "cell_type": "markdown",
   "metadata": {},
   "source": [
    "Thus, two objects are returned. `basemap` is a numpy raster containing the actual color values for the basemap:"
   ]
  },
  {
   "cell_type": "code",
   "execution_count": null,
   "metadata": {},
   "outputs": [],
   "source": [
    "basemap"
   ]
  },
  {
   "cell_type": "markdown",
   "metadata": {},
   "source": [
    "The `basemap_extent` object contains the bounding box information for this image, encoded in Web Mercator coordinates in `(west, east, south, north)` form:"
   ]
  },
  {
   "cell_type": "code",
   "execution_count": null,
   "metadata": {},
   "outputs": [],
   "source": [
    "basemap_extent"
   ]
  },
  {
   "cell_type": "markdown",
   "metadata": {},
   "source": [
    "This can be used with the `plt.imshow` function (which displays images from numpy arrays), to provide a basemap to any plot. For example, the following plot shows the neighborhoods and listing data together:"
   ]
  },
  {
   "cell_type": "code",
   "execution_count": null,
   "metadata": {},
   "outputs": [],
   "source": [
    "plt.figure(figsize=(10, 10))\n",
    "neighborhoods.boundary.plot(ax=plt.gca(), color='orangered')\n",
    "listings.plot(ax=plt.gca(), marker='.', markersize=5, color='green')"
   ]
  },
  {
   "cell_type": "markdown",
   "metadata": {},
   "source": [
    "By adding the `basemap` in using `plt.imshow`, we can see where these points and polygons are:"
   ]
  },
  {
   "cell_type": "code",
   "execution_count": null,
   "metadata": {},
   "outputs": [],
   "source": [
    "plt.figure(figsize=(10, 10))\n",
    "plt.imshow(basemap, extent=basemap_extent, interpolation='bilinear')\n",
    "neighborhoods.boundary.plot(ax=plt.gca(), color='orangered')\n",
    "listings.plot(ax=plt.gca(), marker='.', markersize=5, color='green')\n",
    "\n",
    "# and, to make sure the view is focused only on our data:\n",
    "plt.axis(neighborhoods.total_bounds[[0,2,1,3]])"
   ]
  },
  {
   "cell_type": "markdown",
   "metadata": {},
   "source": [
    "Contextily offers many different styles of basemap. Within the `contextily.tile_providers` module, different providers are stated, such as:\n",
    "- `ST_*`, the family of [Stamen](http://maps.stamen.com/#toner/12/30.2223/-97.8365) map tiles\n",
    "- `OSM_*`, the family of [Open Street Map](https://www.openstreetmap.org/#map=13/30.2635/-97.7465) map tiles. \n",
    "\n",
    "For instance, the following will show the very pretty Stamen Toner Light tiles:"
   ]
  },
  {
   "cell_type": "code",
   "execution_count": null,
   "metadata": {},
   "outputs": [],
   "source": [
    "tonermap, tonermap_extent = contextily.bounds2img(*neighborhoods.total_bounds, zoom=10, \n",
    "                                                  url=contextily.tile_providers.ST_TONER_LITE)"
   ]
  },
  {
   "cell_type": "code",
   "execution_count": null,
   "metadata": {},
   "outputs": [],
   "source": [
    "plt.figure(figsize=(10,10))\n",
    "plt.imshow(tonermap, extent=tonermap_extent)\n",
    "neighborhoods.boundary.plot(ax=plt.gca(), color='orangered')\n",
    "listings.plot(ax=plt.gca(), marker='.', markersize=5, color='green')\n",
    "plt.axis(neighborhoods.total_bounds[[0,2,1,3]])"
   ]
  },
  {
   "cell_type": "markdown",
   "metadata": {},
   "source": [
    "If you're interested or able to use others' tileservers, you can also format your tileserver query using `tileZ` (for zoom) and `tileX`/`tileY`, like other tileserver url formats and provide this URL to the `bounds2img` function:"
   ]
  },
  {
   "cell_type": "code",
   "execution_count": null,
   "metadata": {},
   "outputs": [],
   "source": [
    "transit = 'http://tile.memomaps.de/tilegen/tileZ/tileX/tileY.png'"
   ]
  },
  {
   "cell_type": "code",
   "execution_count": null,
   "metadata": {},
   "outputs": [],
   "source": [
    "transitmap, transitmap_extent = contextily.bounds2img(*neighborhoods.total_bounds, zoom=10, \n",
    "                                                      url=transit)"
   ]
  },
  {
   "cell_type": "code",
   "execution_count": null,
   "metadata": {},
   "outputs": [],
   "source": [
    "plt.figure(figsize=(10,10))\n",
    "plt.imshow(transitmap, extent=transitmap_extent, interpolation='bilinear')\n",
    "neighborhoods.boundary.plot(ax=plt.gca(), color='orangered')\n",
    "listings.plot(ax=plt.gca(), marker='.', markersize=5, color='green')\n",
    "plt.axis(neighborhoods.total_bounds[[0,2,1,3]])"
   ]
  },
  {
   "cell_type": "markdown",
   "metadata": {},
   "source": [
    "Using `geopy` & `contextily`, put together a map of your hometown, place of residence, or place of work.  \n",
    "\n",
    "*hint: the bounding box of a `geopy` query is often contained in its `raw` attribute*"
   ]
  },
  {
   "cell_type": "code",
   "execution_count": null,
   "metadata": {},
   "outputs": [],
   "source": []
  },
  {
   "cell_type": "markdown",
   "metadata": {},
   "source": [
    "# Building up areas for visualization"
   ]
  },
  {
   "cell_type": "markdown",
   "metadata": {},
   "source": [
    "Building areas for the visualization of spatial groups is a very useful tool. In many contexts, these areas provide a simple way to classify new data into groups, or can provide a simpler graphical frame with which large amounts of data can be visualized. \n",
    "\n",
    "For our puposes, Airbnb data contains a lot of information about `neighborhoods`. But, people often disagree about the naming and boundaries of their neighborhoods. From a practical perspective, our data on Airbnbs has a few different pieces of information about neighborhoods. In the `listings` dataframe, each individual Airbnb offers up some information about what \"neighborhood\" it falls within:"
   ]
  },
  {
   "cell_type": "code",
   "execution_count": null,
   "metadata": {},
   "outputs": [],
   "source": [
    "listings.dropna(subset=['hood']).plot('hood', marker='.')"
   ]
  },
  {
   "cell_type": "markdown",
   "metadata": {},
   "source": [
    "Indeed, there are many different neighborhoods in the data:"
   ]
  },
  {
   "cell_type": "code",
   "execution_count": null,
   "metadata": {},
   "outputs": [],
   "source": [
    "(listings.groupby('hood') #group by the neighborhood\n",
    "         .id.count() # get the count of observations\n",
    "         .sort_values(ascending=False) # sort the counts to have the most populous first\n",
    "         .head(20)) # and get the top 20"
   ]
  },
  {
   "cell_type": "markdown",
   "metadata": {},
   "source": [
    "One method that is used often to construct an area from point data is to consider the [*convex hull*](https://en.wikipedia.org/wiki/Convex_hull) of the data. The convex hull is like the polygon you'd get if you took a rubber band and stretched it around the most extreme points. Every point is inside of the convex hull, but some points will be on its boundary. Further, the shape is *convex*, meaning that the straight line between any two points will also be contained within the convex hull. We can build convex hulls from a group of points using the `unary_union` attribute of a `GeoSeries` (to collect them together into a single geometry), and then using the `convex_hull` method for that shape. For example"
   ]
  },
  {
   "cell_type": "code",
   "execution_count": null,
   "metadata": {},
   "outputs": [],
   "source": [
    "listings.iloc[[0,1,2,3]].geometry"
   ]
  },
  {
   "cell_type": "code",
   "execution_count": null,
   "metadata": {},
   "outputs": [],
   "source": [
    "listings.iloc[[0,1,2,3]].geometry.unary_union"
   ]
  },
  {
   "cell_type": "code",
   "execution_count": null,
   "metadata": {},
   "outputs": [],
   "source": [
    "listings.iloc[[0,1,2,3]].geometry.unary_union.convex_hull"
   ]
  },
  {
   "cell_type": "markdown",
   "metadata": {},
   "source": [
    "Since this `unary_union` is a property of any `GeoSeries` and `convex_hull` is a property of any `shapely` geometry, we can use this approach within a `groupby` as a part of a typical [split-apply-combine](https://pandas.pydata.org/pandas-docs/stable/user_guide/groupby.html) pattern. For instance, if we wanted to get the convex hulls for each neighborhood, we might first group by neighborhoods:"
   ]
  },
  {
   "cell_type": "code",
   "execution_count": null,
   "metadata": {},
   "outputs": [],
   "source": [
    "hood_groups = listings.groupby('hood')"
   ]
  },
  {
   "cell_type": "markdown",
   "metadata": {},
   "source": [
    "Then, for each group, we'd want to do the same thing we did above: get the `unary_union.convex_hull` from that chunk:"
   ]
  },
  {
   "cell_type": "code",
   "execution_count": null,
   "metadata": {},
   "outputs": [],
   "source": [
    "chulls = hood_groups.geometry.apply(lambda hood: hood.unary_union.convex_hull)"
   ]
  },
  {
   "cell_type": "markdown",
   "metadata": {},
   "source": [
    "If this worked, we will see each neighborhood next to a polygon corresponding to its convex hull:"
   ]
  },
  {
   "cell_type": "code",
   "execution_count": null,
   "metadata": {},
   "outputs": [],
   "source": [
    "chulls.head()"
   ]
  },
  {
   "cell_type": "markdown",
   "metadata": {},
   "source": [
    "It did work! All that is needed now is to build a `GeoDataFrame` from these hulls for further analysis & mapping:"
   ]
  },
  {
   "cell_type": "code",
   "execution_count": null,
   "metadata": {},
   "outputs": [],
   "source": [
    "chulls = geopandas.GeoDataFrame(chulls.reset_index())"
   ]
  },
  {
   "cell_type": "markdown",
   "metadata": {},
   "source": [
    "Since these convex hulls are now a standard geodataframe, we can make a map using them, just like we did the neighborhoods before:"
   ]
  },
  {
   "cell_type": "code",
   "execution_count": null,
   "metadata": {},
   "outputs": [],
   "source": [
    "plt.figure(figsize=(10,10))\n",
    "plt.imshow(tonermap, extent=tonermap_extent, interpolation='bilinear')\n",
    "chulls.boundary.plot(linewidth=1, color='k', ax=plt.gca())\n",
    "listings.dropna(subset=['hood']).plot('hood', ax=plt.gca(), \n",
    "                                      marker='.', markersize=5)\n",
    "plt.axis(chulls.total_bounds[[0,2,1,3]])\n",
    "plt.show()"
   ]
  },
  {
   "cell_type": "markdown",
   "metadata": {},
   "source": [
    "#### **Hmm...**\n",
    "There are some weird overlaps there:"
   ]
  },
  {
   "cell_type": "code",
   "execution_count": null,
   "metadata": {},
   "outputs": [],
   "source": [
    "plt.figure(figsize=(10,10))\n",
    "plt.imshow(tonermap, extent=tonermap_extent, interpolation='bilinear')\n",
    "chulls.boundary.plot(ax=plt.gca(), linewidth=1, color='k')\n",
    "listings.dropna(subset=['hood']).plot('hood', ax=plt.gca(), \n",
    "                                      marker='.', markersize=50)\n",
    "plt.axis(chulls.query('hood == \"Westlake Hills\"').total_bounds[[0,2,1,3]])\n",
    "plt.show()"
   ]
  },
  {
   "cell_type": "markdown",
   "metadata": {},
   "source": [
    "The convex hull of the larger set of points can't help but be too large; it's shape is intrinsically not convex! The indentation where the other smaller group of points fall simply cannot be accommodated using the convex hull. "
   ]
  },
  {
   "cell_type": "markdown",
   "metadata": {},
   "source": [
    "Another common kind of hull for analysis purposes is the `alpha` shape. [Alpha shapes](https://en.wikipedia.org/wiki/Alpha_shape) reflect a kind of non-convex optimally-tight hull that can be used to analyze groups of points. One implementation of this algorithm is in the Python Spatial Analysis Library, `pysal`. It takes an array of coordinates and returns the polygon corresponding to the Alpha Shape"
   ]
  },
  {
   "cell_type": "code",
   "execution_count": null,
   "metadata": {},
   "outputs": [],
   "source": [
    "from pysal.lib.cg import alpha_shape_auto\n",
    "from pysal.lib.weights.distance import get_points_array"
   ]
  },
  {
   "cell_type": "markdown",
   "metadata": {},
   "source": [
    "Thus, like before, we can get the coordinates from each group and compute the alpha shape for the coordinates. We do this in a similar fashion to how the convex hulls were built:"
   ]
  },
  {
   "cell_type": "code",
   "execution_count": null,
   "metadata": {},
   "outputs": [],
   "source": [
    "ashapes = hood_groups.geometry.apply(lambda hood: alpha_shape_auto(\n",
    "                                                  get_points_array(hood)))\n",
    "ashapes = geopandas.GeoDataFrame(ashapes.reset_index())"
   ]
  },
  {
   "cell_type": "markdown",
   "metadata": {},
   "source": [
    "These new boundaries are no longer forced to be convex, and can be incredibly non-convex:"
   ]
  },
  {
   "cell_type": "code",
   "execution_count": null,
   "metadata": {},
   "outputs": [],
   "source": [
    "plt.figure(figsize=(10,10))\n",
    "plt.imshow(tonermap, extent=tonermap_extent, interpolation='bilinear')\n",
    "ashapes.boundary.plot(color='k', linewidth=1, ax=plt.gca())\n",
    "listings.dropna(subset=['hood']).plot('hood', ax=plt.gca(), \n",
    "                                      marker='.', markersize=5)\n",
    "plt.axis(ashapes.total_bounds[[0,2,1,3]])\n",
    "plt.show()"
   ]
  },
  {
   "cell_type": "markdown",
   "metadata": {},
   "source": [
    "So, the overlap seen earlier does not show up: "
   ]
  },
  {
   "cell_type": "code",
   "execution_count": null,
   "metadata": {},
   "outputs": [],
   "source": [
    "plt.figure(figsize=(10,10))\n",
    "plt.imshow(tonermap, extent=tonermap_extent, interpolation='bilinear')\n",
    "ashapes.plot('hood', ax=plt.gca(), linewidth=2)\n",
    "listings.dropna(subset=['hood']).plot('hood', ax=plt.gca(), \n",
    "                                      marker='.', markersize=5)\n",
    "plt.axis(ashapes.query('hood == \"Westlake Hills\"').total_bounds[[0,2,1,3]])\n",
    "plt.show()"
   ]
  },
  {
   "cell_type": "markdown",
   "metadata": {},
   "source": [
    "# Spatial Joins"
   ]
  },
  {
   "cell_type": "markdown",
   "metadata": {},
   "source": [
    "But, we have the `neighborhoods` data as well. How do these relate to the neighborhoods we've just built?"
   ]
  },
  {
   "cell_type": "code",
   "execution_count": null,
   "metadata": {},
   "outputs": [],
   "source": [
    "plt.figure(figsize=(10,10))\n",
    "plt.imshow(tonermap, extent=tonermap_extent, interpolation='bilinear')\n",
    "ashapes.plot(linewidth=1, ax=plt.gca())\n",
    "neighborhoods.plot(ax=plt.gca(), alpha=.5, \n",
    "                   edgecolor='red', facecolor='lightyellow')\n",
    "plt.axis(ashapes.total_bounds[[0,2,1,3]])\n",
    "plt.show()"
   ]
  },
  {
   "cell_type": "markdown",
   "metadata": {},
   "source": [
    "It looks like there are many neighborhoods where the neighborhood stated in the listing isn't the neighborhood provided by the `insideairbnb` project. To see how the two relate to one another, we can use a spatial join. \n",
    "\n",
    "Spatial joins are used to relate recrods in a spatial database. To join two spatial tables together using a spatial join, you first need to think of what the *spatial query* is that is answered by the spatial join. Common spatial queries that are answered by spatial joins might be:\n",
    "\n",
    "1. How many fire stations are within each residential district?\n",
    "2. Which rivers flow under a street? \n",
    "3. What is the most common political yard sign on each street segment?\n",
    "\n",
    "In each of these cases, we're seeking to answer a question about the relationship between two spatial datasets. In the first, we're asking how many fire stations (a point- or a polygon-based geometry) fall within a residential district (a polygon-based geometry). In the second, we're asking how many rivers (a line- or a polygon-based geometry) flow underneath a street (a line- or polygon-based geometry). In the last, we are asking what the most common yard sign (a point-based geometry) on each street segment (a line-based geometry). The spatial relationshps used for each of these queries would depend on the order used in the join. For instance, *fire stations* **within** *residential districts* would indicate a *within* relation, but reversing the spatial relationship yields a valid query as well *residential districts* **contain** *fire stations*. Formally speaking, the spatial relationships considered by spatial joins are defined formally by the [*Dimensionally-Extended 9-Intersection Model*](https://en.wikipedia.org/wiki/DE-9IM), but most common joins are stated in terms of one of three operations:\n",
    "\n",
    "1. **A intersects B**: the final table contains records that unite the features of A and B for each pair of observations whose geometries intersect in any manner. \n",
    "2. **A contains B**: the final table contains records that unite the features of A and B for each pair of observations where the record in A \"contains\", or fully covers, the record in B\n",
    "3. **A is within B**: the final table contains records that unite the features of A and B for each pair of observations where the record in A is within a record of B\n",
    "\n",
    "When feature `a` contains feature `b`, then feature `b` is within feature `a`. These can be thought of as the inverse relations of one another. \n",
    "\n",
    "For us to discover which listings are **within** each neighborhood, we can specify the **within** `op` (short for *operation*) in the `geopanda.sjoin` function:"
   ]
  },
  {
   "cell_type": "code",
   "execution_count": null,
   "metadata": {},
   "outputs": [],
   "source": [
    "listings_in_hoods = geopandas.sjoin(listings, neighborhoods, op='within')"
   ]
  },
  {
   "cell_type": "markdown",
   "metadata": {},
   "source": [
    "In total, there are three relations supported by `geopandas`. \n",
    "- Intersects: a record from the left table intersects a record from the left table.\n",
    "- Within: a record from the left table is within a record from the right table.\n",
    "- Contains: a record from the left table contains a record from the right table. "
   ]
  },
  {
   "cell_type": "markdown",
   "metadata": {},
   "source": [
    "The result from a spatial join creates a table where each row combines the left and right dataframes when the spatial operation is `True`. We can see that the index and `hood_id` from the `neighborhoods` table is brought alongside the `id` and `hood` data from the `listing` table:"
   ]
  },
  {
   "cell_type": "code",
   "execution_count": null,
   "metadata": {},
   "outputs": [],
   "source": [
    "listings_in_hoods.head()[['id', 'hood', 'index_right', 'hood_id']]"
   ]
  },
  {
   "cell_type": "markdown",
   "metadata": {},
   "source": [
    "In this new joint table, we can count the different neighborhoods from the `listing` table that fall within each neighborhood from the `neighborhood` table:"
   ]
  },
  {
   "cell_type": "code",
   "execution_count": null,
   "metadata": {},
   "outputs": [],
   "source": [
    "compositions = listings_in_hoods.groupby(('hood', 'hood_id')).id.count()\n",
    "compositions"
   ]
  },
  {
   "cell_type": "markdown",
   "metadata": {},
   "source": [
    "To reformat this in a manner that can be easier to use, we can restate it in terms of the square join matrix by unstacking it and replacing the `NaN` values with something easier on the eyes, like a '-' string:"
   ]
  },
  {
   "cell_type": "code",
   "execution_count": null,
   "metadata": {},
   "outputs": [],
   "source": [
    "compositions.unstack().fillna('-')"
   ]
  },
  {
   "cell_type": "markdown",
   "metadata": {},
   "source": [
    "From here, we could make a map of the number of neighborhoods that listings *say* they are in veruss the neighborhoods Airbnb uses internally. To do this, we would need to get the *number* of neighborhood names from the `listings` table that occur within each neighborhood from the `neighborhood` table.  \n",
    "\n",
    "To do this, we might first group the spatially-joined table `listings_in_hoods` by the `hood_id` (from the `neighborhood` table) and get the unique `hood` names (from the `listing` table) that occur in that group:"
   ]
  },
  {
   "cell_type": "code",
   "execution_count": null,
   "metadata": {},
   "outputs": [],
   "source": [
    "listings_in_hoods.dropna(subset=['hood']).groupby('hood_id').hood.unique()"
   ]
  },
  {
   "cell_type": "markdown",
   "metadata": {},
   "source": [
    "The length of this list of unique names is the length of unique hood names within each neighborhood from the `neighborhood` dataframe:"
   ]
  },
  {
   "cell_type": "code",
   "execution_count": null,
   "metadata": {},
   "outputs": [],
   "source": [
    "number_unique = listings_in_hoods.dropna(subset=['hood']).groupby('hood_id')\\\n",
    "                                 .hood.unique().apply(len)"
   ]
  },
  {
   "cell_type": "code",
   "execution_count": null,
   "metadata": {},
   "outputs": [],
   "source": [
    "number_unique.head()"
   ]
  },
  {
   "cell_type": "markdown",
   "metadata": {},
   "source": [
    "Then, to merge this back into the neighborhoods frame, we can use a typical aspatial table merge:"
   ]
  },
  {
   "cell_type": "code",
   "execution_count": null,
   "metadata": {},
   "outputs": [],
   "source": [
    "saidhoods_in_hood = neighborhoods.merge(number_unique.to_frame('number_names'),\n",
    "                                        how='left', \n",
    "                                        left_on='hood_id', right_index=True)"
   ]
  },
  {
   "cell_type": "markdown",
   "metadata": {},
   "source": [
    "And (finally) make a map of the number of neighborhood names that hosts *say* within each neighborhood Airbnb uses for analytics:"
   ]
  },
  {
   "cell_type": "code",
   "execution_count": null,
   "metadata": {},
   "outputs": [],
   "source": [
    "plt.figure(figsize=(10,10))\n",
    "plt.imshow(tonermap, extent=tonermap_extent)\n",
    "saidhoods_in_hood.plot('number_names', ax = plt.gca(), \n",
    "                       alpha=.75, edgecolor='lightgrey', legend=True)\n",
    "plt.title('# of Neighborhood Names used\\nin each Neighborhood')\n",
    "plt.axis(saidhoods_in_hood.total_bounds[[0,2,1,3]])"
   ]
  },
  {
   "cell_type": "markdown",
   "metadata": {},
   "source": [
    "### What do nearby airbnbs look like?"
   ]
  },
  {
   "cell_type": "markdown",
   "metadata": {},
   "source": [
    "Another kind of spatial \"join\" focuses on merging two datasets together by their proximity, rather than by one of the spatial relations discussed above. These queries often are used to ask questions like:\n",
    "\n",
    "1. What is the nearest restaurant to my hotel? \n",
    "2. How many bars are within a 20-minute walk of the conference center?\n",
    "\n",
    "This distance-based query can *occasionally* be answered focusing explicitly on DE-9IM-style queries like we discussed above. For instance, response 2 can be answered using a *buffer*. In spatial analysis, a **buffer** is the polygon developed by extending the boundary of a feaure by a pre-specified distance. For example, given the points below:"
   ]
  },
  {
   "cell_type": "code",
   "execution_count": null,
   "metadata": {},
   "outputs": [],
   "source": [
    "listings.head(20).plot()"
   ]
  },
  {
   "cell_type": "markdown",
   "metadata": {},
   "source": [
    "The buffer of these points would \"inflate\" these points into a circle of a specified distance:"
   ]
  },
  {
   "cell_type": "code",
   "execution_count": null,
   "metadata": {},
   "outputs": [],
   "source": [
    "ax = listings.head(20).buffer(2500).plot()\n",
    "listings.head(20).plot(ax=ax, color='red')"
   ]
  },
  {
   "cell_type": "markdown",
   "metadata": {},
   "source": [
    "For a polygon or line, a buffer works similarly:"
   ]
  },
  {
   "cell_type": "code",
   "execution_count": null,
   "metadata": {},
   "outputs": [],
   "source": [
    "ax = neighborhoods.iloc[[0]].buffer(1000).plot()\n",
    "neighborhoods.iloc[[0]].plot(color='red', ax=ax)"
   ]
  },
  {
   "cell_type": "markdown",
   "metadata": {},
   "source": [
    "As such, a query like \n",
    "\n",
    "> what is the average price per head in 1000 meters around each Airbnb\n",
    "\n",
    "can be reframed in terms of a *spatial join* between the *1000 meter buffer* around each airbnb and the original Airbnbs themselves. To do this for Airbnbs in Downtown Austin, we could do the following few steps. \n",
    "\n",
    "First, we can pick the two downtown neighborhoods in our dataset:"
   ]
  },
  {
   "cell_type": "code",
   "execution_count": null,
   "metadata": {},
   "outputs": [],
   "source": [
    "downtown_hoods = ('Downtown', 'East Downtown')"
   ]
  },
  {
   "cell_type": "markdown",
   "metadata": {},
   "source": [
    "And then, using the standard pandas `DataFrame.query` functionality, focus the analysis on only the neighborhoods in the downtown:"
   ]
  },
  {
   "cell_type": "code",
   "execution_count": null,
   "metadata": {},
   "outputs": [],
   "source": [
    "downtown_listings = listings.query('hood in @downtown_hoods')"
   ]
  },
  {
   "cell_type": "markdown",
   "metadata": {},
   "source": [
    "Then, we can build a buffer around each Airbnb using the `buffer` method:"
   ]
  },
  {
   "cell_type": "code",
   "execution_count": null,
   "metadata": {},
   "outputs": [],
   "source": [
    "searchbuffer = downtown_listings.buffer(1000)"
   ]
  },
  {
   "cell_type": "markdown",
   "metadata": {},
   "source": [
    "This returns a `GeoSeries`, the `geopandas` analogue of the `pandas.Series`. "
   ]
  },
  {
   "cell_type": "code",
   "execution_count": null,
   "metadata": {},
   "outputs": [],
   "source": [
    "searchbuffer.head()"
   ]
  },
  {
   "cell_type": "markdown",
   "metadata": {},
   "source": [
    "We can use this to build a dataframe where the values are the price per head at each airbnb, and the geometry is the buffer. We'll keep the `id` from the `downtown_listings` dataframe as well. "
   ]
  },
  {
   "cell_type": "code",
   "execution_count": null,
   "metadata": {},
   "outputs": [],
   "source": [
    "searchbuffer = geopandas.GeoDataFrame(downtown_listings.price.values/downtown_listings.accommodates.values,\n",
    "                                      geometry=searchbuffer.tolist(), \n",
    "                                      columns=['buffer_pph'], \n",
    "                                      index=downtown_listings.id.values)\n",
    "searchbuffer.crs = downtown_listings.crs\n",
    "searchbuffer.head()"
   ]
  },
  {
   "cell_type": "markdown",
   "metadata": {},
   "source": [
    "Then, we can compute the average price within 1000 meters of each Airbnb by finding *which* 1000 meter buffers intersect each Airbnb listing:"
   ]
  },
  {
   "cell_type": "code",
   "execution_count": null,
   "metadata": {},
   "outputs": [],
   "source": [
    "listing_buffer_join = geopandas.sjoin(downtown_listings, searchbuffer, op='intersects')"
   ]
  },
  {
   "cell_type": "markdown",
   "metadata": {},
   "source": [
    "However, we want to ensure that there are no \"self-joins.\" Since a buffer of 1000 meters around a point intersects the point itself, we must remove self-joins from the final query. Since we indexed the `searchbuffer` frame using the `id` field, we can drop all entries where `id == index_right`. "
   ]
  },
  {
   "cell_type": "code",
   "execution_count": null,
   "metadata": {},
   "outputs": [],
   "source": [
    "listing_buffer_join = listing_buffer_join.query('id != index_right')"
   ]
  },
  {
   "cell_type": "markdown",
   "metadata": {},
   "source": [
    "Now, each record in `listing_buffer_join`  describes the relationship between an Airbnb and a 1-km buffer around a *different* Airbnb. By grouping together all records with the same `id`, we can summarize the prices of the nearby buffers. "
   ]
  },
  {
   "cell_type": "code",
   "execution_count": null,
   "metadata": {},
   "outputs": [],
   "source": [
    "downtown_areasummaries = listing_buffer_join.groupby('id').buffer_pph.describe()"
   ]
  },
  {
   "cell_type": "markdown",
   "metadata": {},
   "source": [
    "For an indication of what this looks like, we can look at the head of the dataframe:"
   ]
  },
  {
   "cell_type": "code",
   "execution_count": null,
   "metadata": {},
   "outputs": [],
   "source": [
    "downtown_areasummaries.head()"
   ]
  },
  {
   "cell_type": "markdown",
   "metadata": {},
   "source": [
    "There, there are 222 other Airbnbs within a single kilometer of listing 2265, and the average price per head of those listings is \\$57.53 dollars per night.\n",
    "\n",
    "To link this back up with the original data, we can merge the `downtown_areasummaries` back up with the `downtown_listings` since they both share the listing `id`:"
   ]
  },
  {
   "cell_type": "code",
   "execution_count": null,
   "metadata": {},
   "outputs": [],
   "source": [
    "downtown_areasummaries = downtown_listings.merge(left_on='id', \n",
    "                                                 right=downtown_areasummaries,\n",
    "                                                 right_index=True, how='left')"
   ]
  },
  {
   "cell_type": "markdown",
   "metadata": {},
   "source": [
    "Then, we can plot these \"surrounding characteristics\", showing the spatially-smoothed average of prices in the downtown Austin area:"
   ]
  },
  {
   "cell_type": "code",
   "execution_count": null,
   "metadata": {},
   "outputs": [],
   "source": [
    "f, ax = plt.subplots(3,1,figsize=(10,20), sharex=True, sharey=True)\n",
    "downtown_basemap, downtown_basemap_extent = contextily.bounds2img(*downtown_listings.buffer(1500).total_bounds, zoom=14)\n",
    "for ax_ in ax:\n",
    "    listings.plot(color='k', marker='.', ax=ax_)\n",
    "    ax_.set_xticks([])\n",
    "    ax_.set_xticklabels([])\n",
    "    ax_.set_yticks([])\n",
    "    ax_.set_yticklabels([])\n",
    "    ax_.imshow(downtown_basemap, extent=downtown_basemap_extent)\n",
    "    \n",
    "downtown_listings.eval('price_per_head = price / accommodates')\\\n",
    "                 .sort_values('price_per_head', ascending=True)\\\n",
    "                 .plot('price_per_head', \n",
    "                       ax=ax[0], legend=True)\n",
    "\n",
    "downtown_areasummaries.sort_values('50%', ascending=True)\\\n",
    "        .plot('50%', ax=ax[1], legend=True)\n",
    "downtown_areasummaries.sort_values('50%', ascending=True)\\\n",
    "        .plot('std', ax=ax[2], legend=True)\n",
    "\n",
    "\n",
    "ax[1].axis(listings.query('hood in @downtown_hoods').total_bounds[[0,2,1,3]])\n",
    "ax[0].set_title('Price per Head', fontsize=20)\n",
    "ax[1].set_title('Median Price per Head within 1000 meters', fontsize=20)\n",
    "ax[2].set_title('St.Dev. of Price per Head within 1000 meters', fontsize=20)\n",
    "ax[0].axis(downtown_listings.buffer(1500).total_bounds[[0,2,1,3]])\n",
    "\n",
    "f.tight_layout()"
   ]
  },
  {
   "cell_type": "markdown",
   "metadata": {},
   "source": [
    "### Moving beyond a toy problem...\n",
    "\n",
    "this gets difficult to process. The join between the buffer polygons and the listings becomes very computationally intensive, even when spatial indices are used. Therefore, it can be easier, especially when dealing with point queries, to use a *K-D Tree.* These are special data structures (provided by `scipy`) that allow for exactly these kinds of queries. A useful helper function as well is provided by `pysal`, namely the `get_points_array` function. This function extracts the coordinates of all vertices for a variety of geometry packages in Python and returns a `numpy` array. "
   ]
  },
  {
   "cell_type": "code",
   "execution_count": null,
   "metadata": {},
   "outputs": [],
   "source": [
    "from pysal.lib.weights.distance import get_points_array\n",
    "import numpy"
   ]
  },
  {
   "cell_type": "markdown",
   "metadata": {},
   "source": [
    "To do this distance-based price join for the whole map, then, we need to extract the coordinates and the prices of all the Airbnb listings:"
   ]
  },
  {
   "cell_type": "code",
   "execution_count": null,
   "metadata": {},
   "outputs": [],
   "source": [
    "coordinates = get_points_array(listings.geometry)\n",
    "prices = listings.price.values / listings.accommodates.values"
   ]
  },
  {
   "cell_type": "markdown",
   "metadata": {},
   "source": [
    "Then, we must build the `KDTree` using `scipy`. For nearly any application, the `cKDTree` will be faster. `KDTree` is an implementation of the datastructure in pure Python, whereas the `cKDTree` is an implementation in Cython."
   ]
  },
  {
   "cell_type": "code",
   "execution_count": null,
   "metadata": {},
   "outputs": [],
   "source": [
    "from scipy.spatial import cKDTree"
   ]
  },
  {
   "cell_type": "markdown",
   "metadata": {},
   "source": [
    "`KDTrees` are objects. We will tend to use the `query_*` methods from the KDTree. KDTrees in `scipy` are built when instantiated, and typically the instantiation is an expensive enough computation for large datasets that you will want to avoid re-computing the tree itself if you plan to query from it multiple times. "
   ]
  },
  {
   "cell_type": "code",
   "execution_count": null,
   "metadata": {},
   "outputs": [],
   "source": [
    "kdt = cKDTree(coordinates)"
   ]
  },
  {
   "cell_type": "markdown",
   "metadata": {},
   "source": [
    "There are many `query_*` functions on the KDTree. We will use the `query_ball_tree` function to do the same thing as we did above:"
   ]
  },
  {
   "cell_type": "code",
   "execution_count": null,
   "metadata": {},
   "outputs": [],
   "source": [
    "kdt.query_ball_tree?"
   ]
  },
  {
   "cell_type": "code",
   "execution_count": null,
   "metadata": {},
   "outputs": [],
   "source": [
    "neighbors = kdt.query_ball_tree(kdt, 1000)"
   ]
  },
  {
   "cell_type": "markdown",
   "metadata": {},
   "source": [
    "The `query_ball_tree` function returns a list of lists, where the $i$th list indicates the set of neighbors to the $i$th observation that are closer than $r$ to $i$. "
   ]
  },
  {
   "cell_type": "code",
   "execution_count": null,
   "metadata": {},
   "outputs": [],
   "source": [
    "numpy.asarray(neighbors[0])"
   ]
  },
  {
   "cell_type": "markdown",
   "metadata": {},
   "source": [
    "To summarize this in the same fashion we did before, we must *again* remove self-neighbors. There are many ways to optimize this, since it is both embarassingly parallel and can be forced to work with arrays, but we opt for simplicity in using this generator below:"
   ]
  },
  {
   "cell_type": "code",
   "execution_count": null,
   "metadata": {},
   "outputs": [],
   "source": [
    "neighbors = ([other for other in i_neighbors if other != i] for i,i_neighbors in enumerate(neighbors))"
   ]
  },
  {
   "cell_type": "markdown",
   "metadata": {},
   "source": [
    "Then, to get the same information as above (the median & standard deviation of prices for nearby Airbnbs), we can use the following summary helper function:"
   ]
  },
  {
   "cell_type": "code",
   "execution_count": null,
   "metadata": {},
   "outputs": [],
   "source": [
    "def summarize(ary):\n",
    "    return numpy.median(ary), numpy.std(ary)"
   ]
  },
  {
   "cell_type": "markdown",
   "metadata": {},
   "source": [
    "and compute the summary of the *prices* at each neighbor:"
   ]
  },
  {
   "cell_type": "code",
   "execution_count": null,
   "metadata": {},
   "outputs": [],
   "source": [
    "summary = numpy.asarray([summarize(prices[neighbs]) for neighbs in neighbors]) "
   ]
  },
  {
   "cell_type": "markdown",
   "metadata": {},
   "source": [
    "Since the input data is in the same order as the `listings` dataframe, we can assign directly back to the original dataframe:"
   ]
  },
  {
   "cell_type": "code",
   "execution_count": null,
   "metadata": {},
   "outputs": [],
   "source": [
    "medians, deviations = zip(*summary)\n",
    "listings['median_pph_1km'], listings['std_pph_1km'] = medians, deviations"
   ]
  },
  {
   "cell_type": "markdown",
   "metadata": {},
   "source": [
    "And we can make a similar sort of map as to that focusing on Downtown above, but for the whole of Austin:"
   ]
  },
  {
   "cell_type": "code",
   "execution_count": null,
   "metadata": {},
   "outputs": [],
   "source": [
    "f, ax = plt.subplots(3,1,figsize=(10,25), sharex=True, sharey=True)\n",
    "    \n",
    "listings.eval('price_per_head = price / accommodates')\\\n",
    "        .sort_values('price_per_head', ascending=True)\\\n",
    "        .plot('price_per_head', ax=ax[0], legend=True)\n",
    "\n",
    "listings.sort_values('median_pph_1km', ascending=True)\\\n",
    "        .plot('median_pph_1km', ax=ax[1], legend=True)\n",
    "listings.sort_values('std_pph_1km', ascending=True)\\\n",
    "        .plot('std_pph_1km', ax=ax[2], legend=True)\n",
    "\n",
    "\n",
    "ax[0].set_title('Price per Head')\n",
    "ax[1].set_title('Median Price per Head within 1000 meters')\n",
    "ax[2].set_title('St.Dev. of Price per Head within 1000 meters')\n",
    "\n",
    "for ax_ in ax:\n",
    "    ax_.set_xticks([])\n",
    "    ax_.set_xticklabels([])\n",
    "    ax_.set_yticks([])\n",
    "    ax_.set_yticklabels([])\n",
    "    ax_.imshow(tonermap, extent=tonermap_extent)\n",
    "    ax_.axis(listings.buffer(2000).total_bounds[[0,2,1,3]])\n",
    "    neighborhoods.plot(ax=ax_, edgecolor='lightgrey', facecolor='none')\n",
    "\n",
    "f.tight_layout()"
   ]
  },
  {
   "cell_type": "markdown",
   "metadata": {},
   "source": [
    "### How about nearest neighbor joins?"
   ]
  },
  {
   "cell_type": "markdown",
   "metadata": {},
   "source": [
    "The KDTree *also* works for queries about the properties of *nearest* points as well. For instance, it may be helpful to know how homogenous the types of Airbnbs are across Austin. Areas with many Airbnbs all of the same type (e.g. `Entire home/apt`) may be areas where the market for temporary housing is relatively homogenous in its offerings overall. Thus, we might define a distinction between Airbnbs which are fully \"private\" and those that involve some kind of shared component by building an indicator variable for whether or not a listing is shared in some manner:"
   ]
  },
  {
   "cell_type": "code",
   "execution_count": null,
   "metadata": {},
   "outputs": [],
   "source": [
    "is_shared = ~ (listings.room_type==\"Entire home/apt\")"
   ]
  },
  {
   "cell_type": "markdown",
   "metadata": {},
   "source": [
    "Then, we can build a KDTree for each type of listing:"
   ]
  },
  {
   "cell_type": "code",
   "execution_count": null,
   "metadata": {},
   "outputs": [],
   "source": [
    "shared_kdt = cKDTree(coordinates[is_shared])\n",
    "alone_kdt = cKDTree(coordinates[~ is_shared])"
   ]
  },
  {
   "cell_type": "markdown",
   "metadata": {},
   "source": [
    "And, using the `query` function, find which is the nearest listing in the *other* group:"
   ]
  },
  {
   "cell_type": "code",
   "execution_count": null,
   "metadata": {},
   "outputs": [],
   "source": [
    "shared_kdt.query?"
   ]
  },
  {
   "cell_type": "markdown",
   "metadata": {},
   "source": [
    "Reading that docstring, we can see that the `query` function returns two things in a tuple. The first is the distance from the observation on the left to the observation on the right. The second is the *index* of the right observation. These are always sorted by the distances, so that the nearest observation corresponds to the first distance, and the second observation to the second distance, etc. \n",
    "\n",
    "Thus, using the query across the two groups provides the nearest entry to each observation in each group:"
   ]
  },
  {
   "cell_type": "code",
   "execution_count": null,
   "metadata": {},
   "outputs": [],
   "source": [
    "nearest_unshared_dist, nearest_unshared_ix = shared_kdt.query(coordinates[~is_shared], k=1)\n",
    "nearest_alone_dist, nearest_alone_ix = alone_kdt.query(coordinates[is_shared], k=1)"
   ]
  },
  {
   "cell_type": "markdown",
   "metadata": {},
   "source": [
    "Pause, for a moment before moving on to answer for yourself:\n",
    "> why can't we just use one query? \n",
    "\n",
    "> (*hint: think of each city's nearest other city amongst LA, San Francisco, and Chicago. Is the relationship always symmetric?*)\n",
    "\n",
    "With this in mind, we can assign the two distances together into a single vector. Since the indices are positions (i.e. not *names*), we can convert them back to the names in the dataframe by indexing the `listings.index` array using their values. "
   ]
  },
  {
   "cell_type": "code",
   "execution_count": null,
   "metadata": {},
   "outputs": [],
   "source": [
    "listings.loc[~is_shared, 'nearest_othertype'] = listings.index[nearest_unshared_ix]\n",
    "listings.loc[is_shared, 'nearest_othertype'] = listings.index[nearest_alone_ix]"
   ]
  },
  {
   "cell_type": "markdown",
   "metadata": {},
   "source": [
    "Since the distances correspond directly to the indices, we can simply assign those directly:"
   ]
  },
  {
   "cell_type": "code",
   "execution_count": null,
   "metadata": {},
   "outputs": [],
   "source": [
    "listings.loc[~is_shared, 'nearest_othertype_dist'] = nearest_unshared_dist\n",
    "listings.loc[is_shared, 'nearest_othertype_dist'] = nearest_alone_dist"
   ]
  },
  {
   "cell_type": "markdown",
   "metadata": {},
   "source": [
    "Then, we can visualize the distances to the nearest different type of accommodation, like before:"
   ]
  },
  {
   "cell_type": "code",
   "execution_count": null,
   "metadata": {},
   "outputs": [],
   "source": [
    "f = plt.figure(figsize=(10,7))\n",
    "plt.imshow(downtown_basemap, extent=downtown_basemap_extent)\n",
    "listings.query('hood in @downtown_hoods').plot('nearest_othertype_dist', ax=plt.gca(), legend=True)\n",
    "plt.axis(downtown_listings.total_bounds[[0,2,1,3]])\n",
    "plt.title('Distance to different type of accommodation (m)', fontsize=20)"
   ]
  },
  {
   "cell_type": "markdown",
   "metadata": {},
   "source": [
    "Now, we will pause for a short break & questions before moving to the problemset, `relations-problemset.ipynb`. "
   ]
  }
 ],
 "metadata": {
  "hide_input": false,
  "kernelspec": {
   "display_name": "Python 3 (ipykernel)",
   "language": "python",
   "name": "python3"
  },
  "language_info": {
   "codemirror_mode": {
    "name": "ipython",
    "version": 3
   },
   "file_extension": ".py",
   "mimetype": "text/x-python",
   "name": "python",
   "nbconvert_exporter": "python",
   "pygments_lexer": "ipython3",
   "version": "3.8.12"
  }
 },
 "nbformat": 4,
 "nbformat_minor": 2
}
